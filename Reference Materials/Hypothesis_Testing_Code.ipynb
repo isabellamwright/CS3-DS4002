{
  "nbformat": 4,
  "nbformat_minor": 0,
  "metadata": {
    "colab": {
      "provenance": []
    },
    "kernelspec": {
      "name": "python3",
      "display_name": "Python 3"
    },
    "language_info": {
      "name": "python"
    }
  },
  "cells": [
    {
      "cell_type": "code",
      "source": [
        "# Import necessary libraries\n",
        "import numpy as np\n",
        "import pandas as pd\n",
        "from scipy import stats"
      ],
      "metadata": {
        "id": "CsaJqQTOjfTc"
      },
      "execution_count": null,
      "outputs": []
    },
    {
      "cell_type": "code",
      "source": [
        "# Pearson's Correlation Hypothesis Testing\n",
        "# H0:  There is no correlation between Amazon product ratings and their sentiment scores (correlation coefficient = 0)\n",
        "# HA: There is a correlation between Amazon product ratings and their sentiment scores (correlation coefficient ≠ 0)"
      ],
      "metadata": {
        "id": "l7ZfV_EzjhI7"
      },
      "execution_count": null,
      "outputs": []
    },
    {
      "cell_type": "code",
      "source": [
        "# Load the CSV file into a DataFrame\n",
        "df = pd.read_csv('amazon_reviews_compound_scores.csv')\n",
        "print(df)"
      ],
      "metadata": {
        "colab": {
          "base_uri": "https://localhost:8080/"
        },
        "id": "rCdq9WvBjjGL",
        "outputId": "20b83dee-a59a-4768-f956-3cefd1987939"
      },
      "execution_count": null,
      "outputs": [
        {
          "output_type": "stream",
          "name": "stdout",
          "text": [
            "      Unnamed: 0  reviewerName  overall  \\\n",
            "0              0           NaN      4.0   \n",
            "1              1          0mie      5.0   \n",
            "2              2           1K3      4.0   \n",
            "3              3           1m2      5.0   \n",
            "4              4  2&amp;1/2Men      5.0   \n",
            "...          ...           ...      ...   \n",
            "4910        4910        ZM \"J\"      1.0   \n",
            "4911        4911            Zo      5.0   \n",
            "4912        4912     Z S Liske      5.0   \n",
            "4913        4913      Z Taylor      5.0   \n",
            "4914        4914           Zza      5.0   \n",
            "\n",
            "                                             reviewText  reviewTime  day_diff  \\\n",
            "0                                            No issues.  2014-07-23       138   \n",
            "1     Purchased this for my device, it worked as adv...  2013-10-25       409   \n",
            "2     it works as expected. I should have sprung for...  2012-12-23       715   \n",
            "3     This think has worked out great.Had a diff. br...  2013-11-21       382   \n",
            "4     Bought it with Retail Packaging, arrived legit...  2013-07-13       513   \n",
            "...                                                 ...         ...       ...   \n",
            "4910  I bought this Sandisk 16GB Class 10 to use wit...  2013-07-23       503   \n",
            "4911  Used this for extending the capabilities of my...  2013-08-22       473   \n",
            "4912  Great card that is very fast and reliable. It ...  2014-03-31       252   \n",
            "4913  Good amount of space for the stuff I want to d...  2013-09-16       448   \n",
            "4914  I've heard bad things about this 64gb Micro SD...  2014-02-01       310   \n",
            "\n",
            "      helpful_yes  helpful_no  total_vote  \\\n",
            "0               0           0           0   \n",
            "1               0           0           0   \n",
            "2               0           0           0   \n",
            "3               0           0           0   \n",
            "4               0           0           0   \n",
            "...           ...         ...         ...   \n",
            "4910            0           0           0   \n",
            "4911            0           0           0   \n",
            "4912            0           0           0   \n",
            "4913            0           0           0   \n",
            "4914            0           0           0   \n",
            "\n",
            "                                     cleaned_reviewText  \\\n",
            "0                                                issues   \n",
            "1     purchased device worked advertised never much ...   \n",
            "2     works expected sprung higher capacity think ma...   \n",
            "3     think worked greathad diff bran gb card went s...   \n",
            "4     bought retail packaging arrived legit orange e...   \n",
            "...                                                 ...   \n",
            "4910  bought sandisk gb class use htc inspire months...   \n",
            "4911  used extending capabilities samsung galaxy not...   \n",
            "4912  great card fast reliable comes optional adapte...   \n",
            "4913        good amount space stuff want fits gopro say   \n",
            "4914  ive heard bad things gb micro sd card crapping...   \n",
            "\n",
            "                                       sentiment_scores  compound_score  \\\n",
            "0     {'neg': 0.0, 'neu': 1.0, 'pos': 0.0, 'compound...          0.0000   \n",
            "1     {'neg': 0.0, 'neu': 1.0, 'pos': 0.0, 'compound...          0.0000   \n",
            "2     {'neg': 0.0, 'neu': 0.828, 'pos': 0.172, 'comp...          0.4019   \n",
            "3     {'neg': 0.0, 'neu': 0.831, 'pos': 0.169, 'comp...          0.6486   \n",
            "4     {'neg': 0.0, 'neu': 0.765, 'pos': 0.235, 'comp...          0.8591   \n",
            "...                                                 ...             ...   \n",
            "4910  {'neg': 0.126, 'neu': 0.74, 'pos': 0.134, 'com...          0.0772   \n",
            "4911  {'neg': 0.0, 'neu': 0.876, 'pos': 0.124, 'comp...          0.1761   \n",
            "4912  {'neg': 0.0, 'neu': 0.709, 'pos': 0.291, 'comp...          0.8481   \n",
            "4913  {'neg': 0.0, 'neu': 0.588, 'pos': 0.412, 'comp...          0.4939   \n",
            "4914  {'neg': 0.123, 'neu': 0.599, 'pos': 0.278, 'co...          0.5267   \n",
            "\n",
            "                                   processed_reviewText  compound    pos  \\\n",
            "0                                             no issues   -0.2960  0.000   \n",
            "1     purchased device worked advertised never much ...   -0.2960  0.000   \n",
            "2     works expected sprung higher capacity think ma...   -0.3089  0.000   \n",
            "3     think worked greathad diff bran went south mon...    0.6486  0.194   \n",
            "4     bought retail packaging arrived legit orange e...    0.7087  0.189   \n",
            "...                                                 ...       ...    ...   \n",
            "4910  bought use htc inspire months getting constant...    0.0772  0.165   \n",
            "4911  used extending capabilities note greatly expan...    0.1761  0.145   \n",
            "4912  great fast reliable comes optional adapter slo...    0.8481  0.339   \n",
            "4913        good amount space stuff want fits gopro say    0.4939  0.412   \n",
            "4914  ive heard bad things micro crapping weeks sk f...    0.5267  0.311   \n",
            "\n",
            "        neg    neu  \n",
            "0     0.688  0.312  \n",
            "1     0.167  0.833  \n",
            "2     0.139  0.861  \n",
            "3     0.000  0.806  \n",
            "4     0.057  0.755  \n",
            "...     ...    ...  \n",
            "4910  0.156  0.678  \n",
            "4911  0.000  0.855  \n",
            "4912  0.000  0.661  \n",
            "4913  0.000  0.588  \n",
            "4914  0.138  0.551  \n",
            "\n",
            "[4915 rows x 17 columns]\n"
          ]
        }
      ]
    },
    {
      "cell_type": "code",
      "source": [
        "# find correlation coefficient and p value\n",
        "correlation_coefficient, p_value = stats.pearsonr(df['compound'], df['overall'])\n",
        "print(correlation_coefficient, p_value)"
      ],
      "metadata": {
        "colab": {
          "base_uri": "https://localhost:8080/"
        },
        "id": "wFZ0z5pfjlCj",
        "outputId": "6f62b566-a6bf-45a0-8c31-14f5685c8970"
      },
      "execution_count": null,
      "outputs": [
        {
          "output_type": "stream",
          "name": "stdout",
          "text": [
            "0.3598429979836059 3.609849358229258e-150\n"
          ]
        }
      ]
    },
    {
      "cell_type": "code",
      "source": [
        "# Correlation coefficient is about 0.359, indicating weak positive relationship between the two variables.\n",
        "# P value is less than significance level of 0.05, so we reject the null hypothesis.\n",
        "# Therefore, we have enough evidence to suggest that Amazon ratings of products and customers' sentiment scores\n",
        "# have a relationship, although weak, as indicated by the correlation coefficient."
      ],
      "metadata": {
        "id": "CAvktAQqjuRq"
      },
      "execution_count": null,
      "outputs": []
    },
    {
      "cell_type": "code",
      "source": [
        "import pandas as pd\n",
        "from scipy.stats import chi2_contingency"
      ],
      "metadata": {
        "id": "qaFMUcgTxsxD"
      },
      "execution_count": null,
      "outputs": []
    },
    {
      "cell_type": "code",
      "source": [
        "# Chi Square Test\n",
        "# Research question: Are there specific words in the review text that are more commonly associated with different rating levels?\n",
        "# H0: There is no association between commonly used words and Amazon product ratings\n",
        "# HA: There is an association between commonly used words and Amazon product ratings\n"
      ],
      "metadata": {
        "id": "6yttrJjnqFTJ"
      },
      "execution_count": null,
      "outputs": []
    },
    {
      "cell_type": "code",
      "source": [
        "# Hypothesis Testing for Chi Square\n",
        "from scipy.stats import chi2_contingency\n",
        "# Create a list of unique words from processed review text for the contingency table\n",
        "unique_words = list(set(' '.join(df['processed_reviewText'].dropna()).split()))\n",
        "\n",
        "# Create a contingency table\n",
        "contingency_table = pd.DataFrame(0, index=unique_words, columns=df['overall'].unique())\n",
        "\n",
        "# Count occurrences of each word in each rating\n",
        "for rating in df['overall'].unique():\n",
        "    for word in unique_words:\n",
        "        count = df[df['overall'] == rating]['processed_reviewText'].str.contains(word, case=False).sum()\n",
        "        contingency_table.loc[word, rating] = count\n",
        "\n",
        "# Perform the Chi-Squared test\n",
        "chi2, p, dof, expected = chi2_contingency(contingency_table)\n",
        "\n",
        "# Print the results\n",
        "print(\"\\nChi-Squared Test Results:\")\n",
        "print(f\"Chi2 Statistic: {chi2}\")\n",
        "print(f\"P-value: {p}\")\n",
        "print(f\"Degrees of Freedom: {dof}\")"
      ],
      "metadata": {
        "colab": {
          "base_uri": "https://localhost:8080/"
        },
        "id": "LwSwwFLSxodR",
        "outputId": "5d291207-471f-470a-8ed5-ba24deb9ef38"
      },
      "execution_count": null,
      "outputs": [
        {
          "output_type": "stream",
          "name": "stdout",
          "text": [
            "Contingency Table:\n",
            "              4.0  5.0  3.0  1.0  2.0\n",
            "onlinewell      0    1    0    0    0\n",
            "terms           1    6    0    1    0\n",
            "falsely         0    1    0    0    0\n",
            "far            50  296    6   18    5\n",
            "housekeeping    0    1    0    0    0\n",
            "...           ...  ...  ...  ...  ...\n",
            "requiredthis    0    1    0    0    0\n",
            "transmit        0    0    0    0    1\n",
            "realised        1    0    0    0    0\n",
            "naturally       0    1    0    2    0\n",
            "conjunction     0    1    0    0    0\n",
            "\n",
            "[9677 rows x 5 columns]\n",
            "\n",
            "Chi-Squared Test Results:\n",
            "Chi2 Statistic: 71111.6882332727\n",
            "P-value: 0.0\n",
            "Degrees of Freedom: 38704\n",
            "Expected Frequencies:\n",
            "[[0.1143088  0.74092682 0.03657296 0.08056099 0.02763043]\n",
            " [0.91447038 5.92741457 0.29258366 0.64448793 0.22104346]\n",
            " [0.1143088  0.74092682 0.03657296 0.08056099 0.02763043]\n",
            " ...\n",
            " [0.1143088  0.74092682 0.03657296 0.08056099 0.02763043]\n",
            " [0.34292639 2.22278046 0.10971887 0.24168297 0.0828913 ]\n",
            " [0.1143088  0.74092682 0.03657296 0.08056099 0.02763043]]\n",
            "\n",
            "Reject the null hypothesis (H0): There is an association between certain words and Amazon product ratings.\n"
          ]
        }
      ]
    },
    {
      "cell_type": "code",
      "source": [
        "# The chi squared testic is extremely high, with a value of 71111, indicating a significant difference between\n",
        "# the observed and expected frequencies in the frequency table. This suggests a strong association between\n",
        "# the words used in reviews and the Amazon product ratings. This means that specific words that are\n",
        "# tend to be commonly assoicated with different rating levels. This is further supported by the p value, which is\n",
        "# close to 0. Since the p value is small and less than significance level of 0.05, we can reject the null\n",
        "# hypothesis. Therefore, there is enough evidence to suggest that there is an association between specific words\n",
        "# and Amazon product ratings.\n"
      ],
      "metadata": {
        "id": "QXYkvKhq2ewj"
      },
      "execution_count": null,
      "outputs": []
    }
  ]
}
